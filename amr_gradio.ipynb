{
 "cells": [
  {
   "cell_type": "code",
   "execution_count": 19,
   "metadata": {},
   "outputs": [],
   "source": [
    "import gradio as gr\n",
    "import pandas as pd\n",
    "import joblib\n",
    "import pandas as pd\n",
    "from sklearn.preprocessing import LabelEncoder\n",
    "from utils import set_label_encoding\n",
    "from datetime import datetime\n",
    "from tabulate import tabulate"
   ]
  },
  {
   "cell_type": "code",
   "execution_count": 20,
   "metadata": {},
   "outputs": [],
   "source": [
    "# labels - column to use in resulting from model and used in gradio\n",
    "target_labels = ['Amoxicilline', 'Augmentin', 'Oxacilline / cefazoline', 'Tazocilline', 'Cefotaxime / ceftriaxone', 'Ceftazidime', 'Cefepime', 'Aztreonam', 'Imipenem', 'Meropenem', 'Ertapenem', 'Amikacine', 'Gentamicine', 'Ciprofloxacine', 'Levofloxacine', 'Bactrim', 'Vancomycine','Rifampicine','Clindamycine''Macrolides']"
   ]
  },
  {
   "cell_type": "code",
   "execution_count": 21,
   "metadata": {},
   "outputs": [],
   "source": [
    "# pip install tabulate"
   ]
  },
  {
   "cell_type": "code",
   "execution_count": 22,
   "metadata": {},
   "outputs": [],
   "source": [
    "df = pd.read_excel('dataset/Calmette_data.xlsx')\n",
    "# df = df.applymap(lambda x: x.replace('\\u200b', '') if isinstance(x, str) else x)\n",
    "df = df.replace(to_replace='\\u200b', value='', regex=True)\n",
    "# drop columns\n",
    "df = df.drop(columns=[\"Unnamed: 0\", \"Hopital\", \"IDLabo\", \"IDPatient\", \"visittype\"])\n",
    "df = df.rename(columns={\"new_age\": \"age\"})\n",
    "# Convert column names to lowercase\n",
    "df.columns = df.columns.str.lower()\n",
    "# Mapping Khmer to English using map()\n",
    "df['sex'] = df['sex'].map({'ប្រុស': 'Male', 'ស្រី': 'Female'})"
   ]
  },
  {
   "cell_type": "code",
   "execution_count": 23,
   "metadata": {},
   "outputs": [],
   "source": [
    "# Set Label Encoding to convert features to number\n",
    "age_dict = set_label_encoding(df, 'age')\n",
    "sex_dict = set_label_encoding(df, 'sex')\n",
    "service_code_dict = set_label_encoding(df, 'service_code')\n",
    "service_type_dict = set_label_encoding(df, 'service_type')\n",
    "prelevement_type_dict = set_label_encoding(df, 'prelevement_type')\n",
    "germe_dict = set_label_encoding(df, 'germe')\n",
    "espece_requete_dict = set_label_encoding(df, 'espece_requete')\n",
    "direct_2_dict = set_label_encoding(df, '2_direct')\n",
    "culture_3_dict = set_label_encoding(df, '3_culture')\n",
    "genre_4_dict = set_label_encoding(df, '4_genre')\n",
    "espece_5_training_dict = set_label_encoding(df, '5_espece_training')\n",
    "contamination_dict = set_label_encoding(df, 'contamination')"
   ]
  },
  {
   "cell_type": "code",
   "execution_count": 24,
   "metadata": {},
   "outputs": [
    {
     "name": "stdout",
     "output_type": "stream",
     "text": [
      "Running on local URL:  http://127.0.0.1:7863\n",
      "\n",
      "To create a public link, set `share=True` in `launch()`.\n"
     ]
    },
    {
     "data": {
      "text/html": [
       "<div><iframe src=\"http://127.0.0.1:7863/\" width=\"100%\" height=\"500\" allow=\"autoplay; camera; microphone; clipboard-read; clipboard-write;\" frameborder=\"0\" allowfullscreen></iframe></div>"
      ],
      "text/plain": [
       "<IPython.core.display.HTML object>"
      ]
     },
     "metadata": {},
     "output_type": "display_data"
    },
    {
     "data": {
      "text/plain": []
     },
     "execution_count": 24,
     "metadata": {},
     "output_type": "execute_result"
    },
    {
     "name": "stderr",
     "output_type": "stream",
     "text": [
      "/Users/thearsophal/opt/miniconda3/lib/python3.9/site-packages/gradio/analytics.py:106: UserWarning: IMPORTANT: You are using gradio version 4.44.0, however version 4.44.1 is available, please upgrade. \n",
      "--------\n",
      "  warnings.warn(\n"
     ]
    },
    {
     "name": "stdout",
     "output_type": "stream",
     "text": [
      "Male 1\n",
      "réa a 51\n",
      "Medecine 2\n",
      "1733814837.0 12\n",
      "Osteoarticulaire 7\n",
      "Stenotrophomonas maltophilia 99\n",
      "1\n",
      "Bacille Gram Neg 0\n",
      "Bacille Gram Neg non fermentant 0\n",
      "Providencia 18\n",
      "Citrobacter freundii complex 14\n",
      "\n",
      "30 Male réa a Medecine 1733814837.0 Osteoarticulaire Stenotrophomonas maltophilia 1 Bacille Gram Neg Bacille Gram Neg non fermentant Providencia Citrobacter freundii complex\n",
      "╒════╤═════════╤═══════╤═══════╤════════════════╤════════════════╤════════════════════╤══════════════════╤════════════╤═════════════╤═══════════╤═════════════════════╤═════════════════╕\n",
      "│    │   month │   age │   sex │   service_code │   service_type │   prelevement_type │   espece_requete │   2_direct │   3_culture │   4_genre │   5_espece_training │   contamination │\n",
      "╞════╪═════════╪═══════╪═══════╪════════════════╪════════════════╪════════════════════╪══════════════════╪════════════╪═════════════╪═══════════╪═════════════════════╪═════════════════╡\n",
      "│  0 │      12 │    30 │     1 │             51 │              2 │                  7 │               71 │          0 │           0 │        18 │                  14 │               1 │\n",
      "╘════╧═════════╧═══════╧═══════╧════════════════╧════════════════╧════════════════════╧══════════════════╧════════════╧═════════════╧═══════════╧═════════════════════╧═════════════════╛\n"
     ]
    },
    {
     "name": "stderr",
     "output_type": "stream",
     "text": [
      "/Users/thearsophal/opt/miniconda3/lib/python3.9/site-packages/sklearn/base.py:318: UserWarning: Trying to unpickle estimator DecisionTreeClassifier from version 1.0.2 when using version 1.2.2. This might lead to breaking code or invalid results. Use at your own risk. For more info please refer to:\n",
      "https://scikit-learn.org/stable/model_persistence.html#security-maintainability-limitations\n",
      "  warnings.warn(\n",
      "/Users/thearsophal/opt/miniconda3/lib/python3.9/site-packages/sklearn/base.py:318: UserWarning: Trying to unpickle estimator RandomForestClassifier from version 1.0.2 when using version 1.2.2. This might lead to breaking code or invalid results. Use at your own risk. For more info please refer to:\n",
      "https://scikit-learn.org/stable/model_persistence.html#security-maintainability-limitations\n",
      "  warnings.warn(\n"
     ]
    },
    {
     "name": "stdout",
     "output_type": "stream",
     "text": [
      "Amoxicilline : class -  0 Resistance  - Probab: 0.06\n",
      "Augmentin : class -  0 Resistance  - Probab: 0.13\n",
      "Oxacilline / cefazoline : class -  0 Resistance  - Probab: 0.025\n",
      "Tazocilline : class -  0 Resistance  - Probab: 0.387\n",
      "Cefotaxime / ceftriaxone : class -  0 Resistance  - Probab: 0.205\n",
      "Ceftazidime : class -  0 Resistance  - Probab: 0.475\n",
      "Cefepime : class -  0 Resistance  - Probab: 0.40700000000000003\n",
      "Aztreonam : class -  0 Resistance  - Probab: 0.165\n",
      "Imipenem : class -  0 Resistance  - Probab: 0.405\n",
      "Meropenem : class -  1 Sensible  - Probab: 0.56\n",
      "Ertapenem : class -  0 Resistance  - Probab: 0.24\n",
      "Amikacine : class -  0 Resistance  - Probab: 0.37200000000000005\n",
      "Gentamicine : class -  0 Resistance  - Probab: 0.37\n",
      "Ciprofloxacine : class -  0 Resistance  - Probab: 0.287\n",
      "Levofloxacine : class -  0 Resistance  - Probab: 0.152\n",
      "Bactrim : class -  0 Resistance  - Probab: 0.36\n",
      "Vancomycine : class -  0 Resistance  - Probab: 0.01\n",
      "Rifampicine : class -  0 Resistance  - Probab: 0.085\n",
      "ClindamycineMacrolides : class -  0 Resistance  - Probab: 0.035\n",
      "\n",
      "{'Amoxicilline': 'Resistance', 'Augmentin': 'Resistance', 'Oxacilline / cefazoline': 'Resistance', 'Tazocilline': 'Resistance', 'Cefotaxime / ceftriaxone': 'Resistance', 'Ceftazidime': 'Resistance', 'Cefepime': 'Resistance', 'Aztreonam': 'Resistance', 'Imipenem': 'Resistance', 'Meropenem': 'Sensible', 'Ertapenem': 'Resistance', 'Amikacine': 'Resistance', 'Gentamicine': 'Resistance', 'Ciprofloxacine': 'Resistance', 'Levofloxacine': 'Resistance', 'Bactrim': 'Resistance', 'Vancomycine': 'Resistance', 'Rifampicine': 'Resistance', 'ClindamycineMacrolides': 'Resistance'}\n",
      "{'Amoxicilline': 0.06, 'Augmentin': 0.13, 'Oxacilline / cefazoline': 0.025, 'Tazocilline': 0.387, 'Cefotaxime / ceftriaxone': 0.205, 'Ceftazidime': 0.475, 'Cefepime': 0.40700000000000003, 'Aztreonam': 0.165, 'Imipenem': 0.405, 'Meropenem': 0.56, 'Ertapenem': 0.24, 'Amikacine': 0.37200000000000005, 'Gentamicine': 0.37, 'Ciprofloxacine': 0.287, 'Levofloxacine': 0.152, 'Bactrim': 0.36, 'Vancomycine': 0.01, 'Rifampicine': 0.085, 'ClindamycineMacrolides': 0.035}\n",
      "╒════╤════════════════╕\n",
      "│    │ Model          │\n",
      "╞════╪════════════════╡\n",
      "│  0 │ Randome Forest │\n",
      "╘════╧════════════════╛\n"
     ]
    }
   ],
   "source": [
    "def amr_project(age, sex, service_code, service_type, date, prelevement_type, germe, contamination, direct_2, culture_3, genre_4, species_training_5):\n",
    "    print(sex, sex_dict[sex])\n",
    "    print(service_code, service_code_dict[service_code])\n",
    "    print(service_type, service_type_dict[service_type])\n",
    "\n",
    "    # Convert timestamp to a datetime object\n",
    "    date_time = datetime.fromtimestamp(date)\n",
    "    # Extract the month\n",
    "    month = date_time.month\n",
    "    print(date, month)\n",
    "\n",
    "    print(prelevement_type, prelevement_type_dict[prelevement_type])\n",
    "    print(germe, germe_dict[germe])\n",
    "\n",
    "    contamination = 0 if contamination == 'No' else 1 # Convert contamination to 0 and 1\n",
    "    print(contamination)\n",
    "\n",
    "    print(direct_2, direct_2_dict[direct_2])\n",
    "    print(culture_3, culture_3_dict[culture_3])\n",
    "    print(genre_4, genre_4_dict[genre_4])\n",
    "    print(species_training_5, espece_5_training_dict[species_training_5])\n",
    "    print()\n",
    "    print(age, sex, service_code, service_type, date, prelevement_type, germe, contamination, direct_2, culture_3, genre_4, species_training_5)\n",
    "\n",
    "    # Sample data\n",
    "    input_data = {\n",
    "        \"month\": [month],\n",
    "        \"age\": [age],\n",
    "        'sex': [sex_dict[sex]],\n",
    "        'service_code': [service_code_dict[service_code]],\n",
    "        'service_type': [service_type_dict[service_type]],\n",
    "        'prelevement_type': [prelevement_type_dict[prelevement_type]],\n",
    "        'espece_requete': [espece_requete_dict[germe]],\n",
    "        '2_direct': [direct_2_dict[direct_2]],\n",
    "        '3_culture': [culture_3_dict[culture_3]],\n",
    "        '4_genre': [genre_4_dict[genre_4]],\n",
    "        '5_espece_training': [espece_5_training_dict[species_training_5]],\n",
    "        'contamination': [contamination]\n",
    "    }\n",
    "    \n",
    "    # Create the DataFrame\n",
    "    df = pd.DataFrame(input_data)\n",
    "    print(tabulate(df, headers=\"keys\", tablefmt=\"fancy_grid\"))\n",
    "    # print(df)\n",
    "\n",
    "    # Load the model back from the file\n",
    "    rf_model_loaded = joblib.load('testing_random_forest_model.joblib')\n",
    "    one_row_test = df\n",
    "\n",
    "    # Now you can use the loaded model to make predictions\n",
    "    y_pred_loaded = rf_model_loaded.predict(one_row_test)\n",
    "    # print(len(y_pred_loaded[0]), np.array(y_pred_loaded))\n",
    "\n",
    "    y_pred_prob = rf_model_loaded.predict_proba(one_row_test)\n",
    "    # print(len(y_pred_prob), np.array(y_pred_prob))\n",
    "\n",
    "    result_class_dict = dict()\n",
    "    result_probab_dict = dict()\n",
    "\n",
    "    for i in range(len(target_labels)):\n",
    "        message = \"Sensible\" if y_pred_loaded[0][i] == 1 else \"Resistance\"\n",
    "        print(target_labels[i], \": class - \", y_pred_loaded[0][i], message,' - Probab:', y_pred_prob[i][0][1])\n",
    "        result_class_dict[target_labels[i]] = message\n",
    "        result_probab_dict[target_labels[i]] = y_pred_prob[i][0][1]\n",
    "\n",
    "    print()\n",
    "    print(result_class_dict)\n",
    "    print(result_probab_dict)\n",
    "\n",
    "    # Sample data\n",
    "    data = {\n",
    "        \"Model\": [\"Randome Forest\"]\n",
    "    }\n",
    "    # Create the DataFrame\n",
    "    df_info = pd.DataFrame(data)\n",
    "    print(tabulate(df_info, headers=\"keys\", tablefmt=\"fancy_grid\"))\n",
    "\n",
    "    return df_info, result_probab_dict\n",
    "    # return df_info, {'Amoxicilline': 0.74, 'Augmentin': 0.22, 'Oxacilline / cefazoline': 0.62, 'Tazocilline': 0.11, 'Cefotaxime / ceftriaxone': 0.94, 'Ceftazidime': 0.38, 'Cefepime': 0.6, 'Aztreonam': 0.5, 'Imipenem': 0.71, 'Meropenem': 0.12, 'Ertapenem': 0.58, 'Amikacine': 0.22, 'Gentamicine': 0.87, 'Ciprofloxacine': 0.18, 'Levofloxacine': 0.85, 'Bactrim': 0.96, 'Vancomycine': 0.7, 'Rifampicine': 0.16, 'Clindamycine': 0.85, 'Macrolides': 0.89}\n",
    "\n",
    "\n",
    "\n",
    "app = gr.Interface(fn=amr_project, inputs=[\n",
    "    gr.Textbox(label=\"Age\"),\n",
    "    gr.Radio([\"Male\", \"Female\"], label=\"Sex\"),\n",
    "    gr.Dropdown(['ms e1', 'mat 1', 'mat 3', 'ms', 'ms e6', 'chirurgie b', 'med b', 'med a4', 'ncc e5', 'urgence central', 'chirurgie a', 'med a2', 'med a5', 'gynecologie', 'neuro-chirurgie', 'med a1', 'neuro-medicine', 'ncc e1', 'nch3', 'chirurgie a2 e2', 'ns4', 'chirugie a e1', 'chirurgie a2 e1', 'ncc e2', 'ncc e4', 'pe', 'rmc', 'med a6', 'med a3', 'pve', 'cardio b', 'rns', 'ncc e3', 'hepato-gastro enterologie', 'réa b', 'med a7', 'c.gy', 'c. gy bs2', 'rea-neurologie', 'ma-ta', 'cardio c', 'cardio a', 'urgence porte', 'ma-ta s.n', 'ma-ta s.i', 'ma-ta s.p', 'chir. ta1', 'réa a', 'ma-ta s.e', 'réa c', 'chir. ta2', 'med a1e0', 'gy-ta8', 'med a1e1', 'gy-pma', 'chirurgie a e0'], label=\"Service Code\"),\n",
    "    gr.Dropdown(['Pediatrie', 'Chirurgie', 'Medecine', 'SAU', 'Gyneco/Obs', 'Rea'], label=\"Service Type\"),\n",
    "    gr.DateTime(label='Date'),\n",
    "    gr.Dropdown(['Collection/Abces', 'Hemoc/KT', 'Urine', 'Genital', 'Respiratoire', 'LCR', 'Sereuse', 'Osteoarticulaire', 'Biopsie', 'Digestif', 'Peau', 'Materiel'], label='Prelevement Type'),\n",
    "    gr.Dropdown(['Streptococcus anginosus', 'Staphylococcus aureus', 'Enterobacter cloacae', 'Pantoea agglomerans', 'Burkholderia cepacia', 'Acinetobacter baumannii', 'Acinetobacter sp.', 'Stenotrophomonas maltophilia', 'Pseudomonas aeruginosa', 'Streptococcus uberis', 'Staphylococcus hominis', 'Staphylococcus epidermidis', 'Enterococcus faecalis', 'Enterobacter sakazakii', 'Streptococcus constellatus', 'Streptococcus intermedius', 'Staphylococcus saprophyticus', 'Enterococcus faecium', 'Klebsiella pneumoniae', 'Proteus mirabilis', 'Raoultella ornithinolytica', 'Candida albicans', 'Streptococcus agalactiae/B', 'Streptococcus mitis', 'Streptococcus acidominimus', 'Streptococcus gordonii', 'Streptococcus gallolyticus', 'Lactococcus garvieae', 'Streptococcus oralis', 'Streptococcus group C/G', 'Streptococcus sp.', 'Streptococcus sanguinis', 'Staphylococcus haemolyticus', 'Salmonella Typhi', 'Salmonella Paratyphi A', 'Salmonella sp.', 'Salmonella choleraesuis', 'Salmonella enterica', 'Enterococcus casseliflavus', 'Enterococcus casseliflavus/gallinarum', 'Enterococcus avium', 'Citrobacter koseri', 'Klebsiella aerogenes', 'Citrobacter freundii', 'Klebsiella ozaenae', 'Proteus vulgaris', 'Klebsiella oxytoca', 'Providencia stuartii', 'Morganella morganii', 'Citrobacter youngae', 'Enterococcus durans', 'Burkholderia pseudomallei', 'Streptococcus suis', 'Streptococcus pyogenes/A', 'Aeromonas hydrophila', 'Aeromonas caviae', 'Aeromonas veronii', 'Acinetobacter lwoffii', 'Acinetobacter haemolyticus', 'Streptococcus dysgalactiae', 'Streptococcus parasanguinis', 'Staphylococcus lugdunensis', 'Staphylococcus caprae', 'Streptococcus pneumoniae', 'Enterococcus gallinarum', 'Enterococcus hirae', 'Enterococcus sp.', 'Candida glabrata', 'Candida tropicalis', 'Candida melibiosica', 'Aeromonas sobria', 'Aerococcus viridans', 'Pseudomonas putida', 'Enterococcus raffinosus', 'Serratia liquefaciens', 'Edwardsiella tarda', 'Plesiomonas shigelloides', 'Listeria monocytogenes', 'Streptococcus C', 'Candida sp.', 'Candida parapsilosis', 'Gemella morbillorum', 'Streptococcus vestibularis', 'Streptococcus porcinus', 'Staphylocoque a coagulase negative', 'Enterobacter aerogenes', 'Citrobacter farmeri', 'Raoultella terrigena', 'Serratia marcescens', 'Acinetobacter lwoffii/haemolyticus', 'Providencia rettgeri', 'Shigella sonnei', 'Cronobacter sakazakii'], label='Germe'),\n",
    "    gr.Radio(['Yes', 'No'], label='Contamination'),\n",
    "    gr.Dropdown(['Cocci Gram Pos', 'Bacille Gram Neg', 'Levure', 'Bacille Gram Pos'], label='Stage 2 - Direct'),\n",
    "    gr.Dropdown(['Cocci Gram Pos type streptocoque', 'Cocci Gram Pos type staphylocoque', 'Bacille Gram Neg type enterobacterie', 'Bacille Gram Neg non fermentant', 'Cocci Gram Pos type enterocoque', 'Levure', 'Cocci Gram Pos non specifie', 'Bacille Gram Neg non specifie', 'Bacille Gram Pos'], label='Stage 3 - Culture'),\n",
    "    gr.Dropdown(['Streptococcus', 'Staphylococcus', 'Enterobacter', 'Pantoea', 'Burkholderia', 'Acinetobacter', 'Stenotrophomonas', 'Pseudomonas', 'Enterococcus', 'Klebsiella', 'Proteus', 'Candida', 'Lactococcus', 'Salmonella', 'Citrobacter', 'Providencia', 'Morganella', 'Aeromonas', 'Aerococcus', 'Serratia', 'Edwardsiella', 'Plesiomonas', 'Listeria', 'Gemella', 'Shigella', 'Cronobacter'], label='Stage 4 - Genre'),\n",
    "    gr.Dropdown(['Streptococcus anginosus/constellatus/intermedius/milleri', 'Staphylococcus aureus', 'Enterobacter cloacae complex', 'Pantoea agglomerans', 'Burkholderia cepacia complex', 'Acinetobacter baumannii-calcoaceticus complex', 'Acinetobacter sp.', 'Stenotrophomonas maltophilia', 'Pseudomonas aeruginosa', 'Streptococcus uberis', 'Staphylococcus hominis', 'Staphylococcus epidermidis', 'Enterococcus faecalis', 'Cronobacter sakazakii', 'Staphylococcus saprophyticus', 'Enterococcus faecium', 'Klebsiella pneumoniae', 'Proteus mirabilis', 'Klebsiella ornithinolytica', 'Candida albicans', 'Streptococcus agalactiae/B', 'Streptococcus mitis/australis/cristatus/infantis/massiliensis/oligofermentans/oralis/peroris/pseudopneumoniae/sinensis', 'Streptococcus acidominimus', 'Streptococcus sanguinis/parasanguinis/gordonii', 'Streptococcus equinus(bovis)/gallolyticus(caprinus)/infantarius/lutetiensis/alactolyticus/pasteurianus/D(hors enterococoques)', 'Lactococcus garvieae', 'Streptococcus dysgalactiae/equi/equisimilis/C/canis/G', 'Streptococcus sp.', 'Staphylococcus haemolyticus', 'Salmonella Typhi', 'Salmonella Paratyphi', 'Salmonella sp.', 'Salmonella enterica', 'Enterococcus casseliflavus/gallinarum', 'Enterococcus avium', 'Citrobacter koseri', 'Klebsiella aerogenes', 'Citrobacter freundii complex', 'Klebsiella ozaenae', 'Proteus vulgaris', 'Klebsiella oxytoca', 'Providencia stuartii', 'Morganella morganii', 'Enterococcus durans', 'Burkholderia pseudomallei', 'Streptococcus suis', 'Streptococcus pyogenes/A', 'Aeromonas caviae/dhakensis/eucrenophila/hydrophila/punctata/sobria/veronii', 'Acinetobacter lwoffii/haemolyticus', 'Staphylococcus lugdunensis', 'Staphylococcus caprae', 'Streptococcus pneumoniae', 'Enterococcus gallinarum', 'Enterococcus hirae', 'Enterococcus sp.', 'Candida glabrata', 'Candida tropicalis', 'Candida melibiosica', 'Aerococcus viridans', 'Pseudomonas putida', 'Enterococcus raffinosus', 'Serratia liquefaciens', 'Edwardsiella tarda', 'Plesiomonas shigelloides', 'Listeria monocytogenes', 'Candida sp.', 'Candida parapsilosis', 'Gemella morbillorum', 'Streptococcus salivarius/thermophilus/vestibularis', 'Streptococcus porcinus', 'Staphylocoque a coagulase negative', 'Citrobacter amalonaticus group', 'Klebsiella terrigena', 'Serratia marcescens', 'Providencia rettgeri', 'Shigella sonnei', 'Cronobacter malonaticus'], label='Stage 5 - Species Training')\n",
    "    # gr.Dropdown(['Amoxicilline', 'Augmentin', 'Oxacilline / cefazoline', 'Tazocilline', 'Cefotaxime / ceftriaxone', 'Ceftazidime', 'Cefepime', 'Aztreonam', 'Imipenem', 'Meropenem', 'Ertapenem', 'Amikacine', 'Gentamicine', 'Ciprofloxacine', 'Levofloxacine', 'Bactrim', 'Vancomycine', 'Rifampicine', 'Clindamycine', 'Macrolides'], label='Antibiotics')\n",
    "    ], \n",
    "    outputs=[\n",
    "        gr.Dataframe(label='Information'),\n",
    "        gr.Label(label='Antibiotics - Sensibility Prediction')\n",
    "        ]\n",
    "    )\n",
    "\n",
    "app.launch()"
   ]
  },
  {
   "cell_type": "code",
   "execution_count": null,
   "metadata": {},
   "outputs": [],
   "source": []
  }
 ],
 "metadata": {
  "kernelspec": {
   "display_name": "Python 3",
   "language": "python",
   "name": "python3"
  },
  "language_info": {
   "codemirror_mode": {
    "name": "ipython",
    "version": 3
   },
   "file_extension": ".py",
   "mimetype": "text/x-python",
   "name": "python",
   "nbconvert_exporter": "python",
   "pygments_lexer": "ipython3",
   "version": "3.9.13"
  }
 },
 "nbformat": 4,
 "nbformat_minor": 2
}
